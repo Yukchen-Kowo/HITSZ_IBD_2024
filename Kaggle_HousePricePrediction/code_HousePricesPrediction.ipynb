{
 "cells": [
  {
   "cell_type": "code",
   "execution_count": 1,
   "id": "93adf02b",
   "metadata": {
    "execution": {
     "iopub.execute_input": "2024-10-27T07:52:12.973124Z",
     "iopub.status.busy": "2024-10-27T07:52:12.972525Z",
     "iopub.status.idle": "2024-10-27T07:52:13.985159Z",
     "shell.execute_reply": "2024-10-27T07:52:13.983967Z"
    },
    "papermill": {
     "duration": 1.025636,
     "end_time": "2024-10-27T07:52:13.988226",
     "exception": false,
     "start_time": "2024-10-27T07:52:12.962590",
     "status": "completed"
    },
    "tags": []
   },
   "outputs": [],
   "source": [
    "import numpy as np\n",
    "\n",
    "import pandas as pd\n",
    "\n",
    "\n",
    "\n",
    "\n",
    "\n",
    "\n",
    "\n",
    "import os\n",
    "\n",
    "for dirname, _, filenames in os.walk('/home/featurize/data'):\n",
    "\n",
    "    for filename in filenames:\n",
    "\n",
    "        print(os.path.join(dirname, filename))\n",
    "\n",
    "        \n",
    "\n",
    "#确认文件路径"
   ]
  },
  {
   "cell_type": "code",
   "execution_count": 2,
   "id": "ca99212a",
   "metadata": {
    "execution": {
     "iopub.execute_input": "2024-10-27T07:52:14.005883Z",
     "iopub.status.busy": "2024-10-27T07:52:14.005145Z",
     "iopub.status.idle": "2024-10-27T07:52:15.773069Z",
     "shell.execute_reply": "2024-10-27T07:52:15.770873Z"
    },
    "papermill": {
     "duration": 1.779917,
     "end_time": "2024-10-27T07:52:15.775855",
     "exception": false,
     "start_time": "2024-10-27T07:52:13.995938",
     "status": "completed"
    },
    "tags": []
   },
   "outputs": [
    {
     "name": "stdout",
     "output_type": "stream",
     "text": [
      "['house-prices-advanced-regression-techniques']\n"
     ]
    }
   ],
   "source": [
    "import os\n",
    "\n",
    "import warnings\n",
    "\n",
    "import numpy as np \n",
    "\n",
    "import pandas as pd \n",
    "\n",
    "from sklearn.linear_model import Lasso\n",
    "\n",
    "from sklearn.linear_model import LassoCV\n",
    "\n",
    "from sklearn.model_selection import train_test_split\n",
    "\n",
    "from sklearn.preprocessing import StandardScaler, LabelEncoder\n",
    "\n",
    "\n",
    "\n",
    "print(os.listdir(\"/kaggle/input\"))\n",
    "\n",
    "%matplotlib inline\n",
    "\n",
    "\n",
    "\n",
    "#遍历文件名称"
   ]
  },
  {
   "cell_type": "code",
   "execution_count": 3,
   "id": "c41f23b3",
   "metadata": {
    "execution": {
     "iopub.execute_input": "2024-10-27T07:52:15.794537Z",
     "iopub.status.busy": "2024-10-27T07:52:15.793705Z",
     "iopub.status.idle": "2024-10-27T07:52:17.920070Z",
     "shell.execute_reply": "2024-10-27T07:52:17.918708Z"
    },
    "papermill": {
     "duration": 2.139442,
     "end_time": "2024-10-27T07:52:17.923427",
     "exception": false,
     "start_time": "2024-10-27T07:52:15.783985",
     "status": "completed"
    },
    "tags": []
   },
   "outputs": [],
   "source": [
    "from xgboost import XGBRegressor\n",
    "\n",
    "from lightgbm import LGBMRegressor\n",
    "\n",
    "from sklearn.ensemble import RandomForestRegressor\n",
    "\n",
    "from catboost import  CatBoostRegressor\n",
    "\n",
    "\n",
    "\n",
    "\n"
   ]
  },
  {
   "cell_type": "code",
   "execution_count": 4,
   "id": "9a204fec",
   "metadata": {
    "execution": {
     "iopub.execute_input": "2024-10-27T07:52:17.943129Z",
     "iopub.status.busy": "2024-10-27T07:52:17.942483Z",
     "iopub.status.idle": "2024-10-27T07:52:18.042220Z",
     "shell.execute_reply": "2024-10-27T07:52:18.041024Z"
    },
    "papermill": {
     "duration": 0.113271,
     "end_time": "2024-10-27T07:52:18.045678",
     "exception": false,
     "start_time": "2024-10-27T07:52:17.932407",
     "status": "completed"
    },
    "tags": []
   },
   "outputs": [],
   "source": [
    "train = pd.read_csv('/kaggle/input/house-prices-advanced-regression-techniques/train.csv') \n",
    "test = pd.read_csv('/kaggle/input/house-prices-advanced-regression-techniques/test.csv') \n",
    "sample = pd.read_csv('/kaggle/input/house-prices-advanced-regression-techniques/sample_submission.csv')"
   ]
  },
  {
   "cell_type": "code",
   "execution_count": 5,
   "id": "1dc9c06d",
   "metadata": {
    "execution": {
     "iopub.execute_input": "2024-10-27T07:52:18.067591Z",
     "iopub.status.busy": "2024-10-27T07:52:18.067141Z",
     "iopub.status.idle": "2024-10-27T07:52:18.073996Z",
     "shell.execute_reply": "2024-10-27T07:52:18.072661Z"
    },
    "papermill": {
     "duration": 0.019652,
     "end_time": "2024-10-27T07:52:18.077070",
     "exception": false,
     "start_time": "2024-10-27T07:52:18.057418",
     "status": "completed"
    },
    "tags": []
   },
   "outputs": [],
   "source": [
    "#Function for viewing data with max 1000 columns and rows\n",
    "\n",
    "def display_all(df):\n",
    "\n",
    "    with pd.option_context(\"display.max_rows\", 10, \"display.max_columns\", 10): \n",
    "\n",
    "        display(df)"
   ]
  },
  {
   "cell_type": "code",
   "execution_count": 6,
   "id": "840d2931",
   "metadata": {
    "execution": {
     "iopub.execute_input": "2024-10-27T07:52:18.098257Z",
     "iopub.status.busy": "2024-10-27T07:52:18.097694Z",
     "iopub.status.idle": "2024-10-27T07:52:18.119471Z",
     "shell.execute_reply": "2024-10-27T07:52:18.118041Z"
    },
    "papermill": {
     "duration": 0.036429,
     "end_time": "2024-10-27T07:52:18.122281",
     "exception": false,
     "start_time": "2024-10-27T07:52:18.085852",
     "status": "completed"
    },
    "tags": []
   },
   "outputs": [],
   "source": [
    "#Seprate taget value \"Id\" \"Saleprice(more importantly)\" from the features\n",
    "\n",
    "y     = train[['Id','SalePrice']]\n",
    "\n",
    "#After storing the target value \"SalePrice\" in y we can now drop it from the feature set \n",
    "\n",
    "train = train.drop('SalePrice',axis=1)"
   ]
  },
  {
   "cell_type": "code",
   "execution_count": 7,
   "id": "e413deab",
   "metadata": {
    "execution": {
     "iopub.execute_input": "2024-10-27T07:52:18.143266Z",
     "iopub.status.busy": "2024-10-27T07:52:18.142759Z",
     "iopub.status.idle": "2024-10-27T07:52:18.166714Z",
     "shell.execute_reply": "2024-10-27T07:52:18.165626Z"
    },
    "papermill": {
     "duration": 0.038542,
     "end_time": "2024-10-27T07:52:18.169468",
     "exception": false,
     "start_time": "2024-10-27T07:52:18.130926",
     "status": "completed"
    },
    "tags": []
   },
   "outputs": [],
   "source": [
    "#creates a list with both Training and Testing Data sets -> all_dfs\n",
    "\n",
    "all_dfs = [train,test]\n",
    "\n",
    "# \"d.concat(all_dfs)\" merges the train and test datasets into a single DataFrame called all_df. It stacks them vertically by default since they share the same columns.\n",
    "\n",
    "# \".reset_index(drop=True)\" resets the index of the new concatenated DataFrame and drops the old index. \n",
    "\n",
    "# Without this, the concatenated DataFrame would retain the indices from both train and test\n",
    "\n",
    "all_df = pd.concat(all_dfs).reset_index(drop=True);"
   ]
  },
  {
   "cell_type": "code",
   "execution_count": 8,
   "id": "930bdc41",
   "metadata": {
    "execution": {
     "iopub.execute_input": "2024-10-27T07:52:18.187944Z",
     "iopub.status.busy": "2024-10-27T07:52:18.186699Z",
     "iopub.status.idle": "2024-10-27T07:52:18.226403Z",
     "shell.execute_reply": "2024-10-27T07:52:18.225116Z"
    },
    "papermill": {
     "duration": 0.052731,
     "end_time": "2024-10-27T07:52:18.230304",
     "exception": false,
     "start_time": "2024-10-27T07:52:18.177573",
     "status": "completed"
    },
    "tags": []
   },
   "outputs": [
    {
     "data": {
      "text/plain": [
       "Id                0.000000\n",
       "MSSubClass        0.000000\n",
       "MSZoning          0.137033\n",
       "LotFrontage      16.649538\n",
       "LotArea           0.000000\n",
       "                   ...    \n",
       "MiscVal           0.000000\n",
       "MoSold            0.000000\n",
       "YrSold            0.000000\n",
       "SaleType          0.034258\n",
       "SaleCondition     0.000000\n",
       "Length: 80, dtype: float64"
      ]
     },
     "metadata": {},
     "output_type": "display_data"
    }
   ],
   "source": [
    "display_all((all_df.isnull().sum()/all_df.shape[0])*100)"
   ]
  },
  {
   "cell_type": "code",
   "execution_count": 9,
   "id": "7858ecce",
   "metadata": {
    "execution": {
     "iopub.execute_input": "2024-10-27T07:52:18.258775Z",
     "iopub.status.busy": "2024-10-27T07:52:18.258145Z",
     "iopub.status.idle": "2024-10-27T07:52:18.268533Z",
     "shell.execute_reply": "2024-10-27T07:52:18.267571Z"
    },
    "papermill": {
     "duration": 0.029021,
     "end_time": "2024-10-27T07:52:18.273100",
     "exception": false,
     "start_time": "2024-10-27T07:52:18.244079",
     "status": "completed"
    },
    "tags": []
   },
   "outputs": [],
   "source": [
    "# Drop all the features with very high number in null rows \n",
    "\n",
    "all_df.drop(['Alley','PoolQC','MiscFeature','Fence','FireplaceQu','Utilities'],axis=1,inplace=True)"
   ]
  },
  {
   "cell_type": "code",
   "execution_count": 10,
   "id": "4372581d",
   "metadata": {
    "execution": {
     "iopub.execute_input": "2024-10-27T07:52:18.301452Z",
     "iopub.status.busy": "2024-10-27T07:52:18.300089Z",
     "iopub.status.idle": "2024-10-27T07:52:18.340874Z",
     "shell.execute_reply": "2024-10-27T07:52:18.339193Z"
    },
    "papermill": {
     "duration": 0.059781,
     "end_time": "2024-10-27T07:52:18.346094",
     "exception": false,
     "start_time": "2024-10-27T07:52:18.286313",
     "status": "completed"
    },
    "tags": []
   },
   "outputs": [
    {
     "name": "stderr",
     "output_type": "stream",
     "text": [
      "/tmp/ipykernel_17/114349460.py:3: FutureWarning: A value is trying to be set on a copy of a DataFrame or Series through chained assignment using an inplace method.\n",
      "The behavior will change in pandas 3.0. This inplace method will never work because the intermediate object on which we are setting values always behaves as a copy.\n",
      "\n",
      "For example, when doing 'df[col].method(value, inplace=True)', try using 'df.method({col: value}, inplace=True)' or df[col] = df[col].method(value) instead, to perform the operation inplace on the original object.\n",
      "\n",
      "\n",
      "  all_df['LotFrontage'].fillna(value=all_df['LotFrontage'].median(),inplace=True)\n",
      "/tmp/ipykernel_17/114349460.py:5: FutureWarning: A value is trying to be set on a copy of a DataFrame or Series through chained assignment using an inplace method.\n",
      "The behavior will change in pandas 3.0. This inplace method will never work because the intermediate object on which we are setting values always behaves as a copy.\n",
      "\n",
      "For example, when doing 'df[col].method(value, inplace=True)', try using 'df.method({col: value}, inplace=True)' or df[col] = df[col].method(value) instead, to perform the operation inplace on the original object.\n",
      "\n",
      "\n",
      "  all_df['MasVnrType'].fillna(value='None',inplace=True)\n",
      "/tmp/ipykernel_17/114349460.py:7: FutureWarning: A value is trying to be set on a copy of a DataFrame or Series through chained assignment using an inplace method.\n",
      "The behavior will change in pandas 3.0. This inplace method will never work because the intermediate object on which we are setting values always behaves as a copy.\n",
      "\n",
      "For example, when doing 'df[col].method(value, inplace=True)', try using 'df.method({col: value}, inplace=True)' or df[col] = df[col].method(value) instead, to perform the operation inplace on the original object.\n",
      "\n",
      "\n",
      "  all_df['MasVnrArea'].fillna(0,inplace=True)\n",
      "/tmp/ipykernel_17/114349460.py:9: FutureWarning: A value is trying to be set on a copy of a DataFrame or Series through chained assignment using an inplace method.\n",
      "The behavior will change in pandas 3.0. This inplace method will never work because the intermediate object on which we are setting values always behaves as a copy.\n",
      "\n",
      "For example, when doing 'df[col].method(value, inplace=True)', try using 'df.method({col: value}, inplace=True)' or df[col] = df[col].method(value) instead, to perform the operation inplace on the original object.\n",
      "\n",
      "\n",
      "  all_df['BsmtCond'].fillna(value='TA',inplace=True)\n",
      "/tmp/ipykernel_17/114349460.py:11: FutureWarning: A value is trying to be set on a copy of a DataFrame or Series through chained assignment using an inplace method.\n",
      "The behavior will change in pandas 3.0. This inplace method will never work because the intermediate object on which we are setting values always behaves as a copy.\n",
      "\n",
      "For example, when doing 'df[col].method(value, inplace=True)', try using 'df.method({col: value}, inplace=True)' or df[col] = df[col].method(value) instead, to perform the operation inplace on the original object.\n",
      "\n",
      "\n",
      "  all_df['BsmtExposure'].fillna(value='No',inplace=True)\n",
      "/tmp/ipykernel_17/114349460.py:13: FutureWarning: A value is trying to be set on a copy of a DataFrame or Series through chained assignment using an inplace method.\n",
      "The behavior will change in pandas 3.0. This inplace method will never work because the intermediate object on which we are setting values always behaves as a copy.\n",
      "\n",
      "For example, when doing 'df[col].method(value, inplace=True)', try using 'df.method({col: value}, inplace=True)' or df[col] = df[col].method(value) instead, to perform the operation inplace on the original object.\n",
      "\n",
      "\n",
      "  all_df['Electrical'].fillna(value='SBrkr',inplace=True)\n",
      "/tmp/ipykernel_17/114349460.py:15: FutureWarning: A value is trying to be set on a copy of a DataFrame or Series through chained assignment using an inplace method.\n",
      "The behavior will change in pandas 3.0. This inplace method will never work because the intermediate object on which we are setting values always behaves as a copy.\n",
      "\n",
      "For example, when doing 'df[col].method(value, inplace=True)', try using 'df.method({col: value}, inplace=True)' or df[col] = df[col].method(value) instead, to perform the operation inplace on the original object.\n",
      "\n",
      "\n",
      "  all_df['BsmtFinType2'].fillna(value='Unf',inplace=True)\n",
      "/tmp/ipykernel_17/114349460.py:17: FutureWarning: A value is trying to be set on a copy of a DataFrame or Series through chained assignment using an inplace method.\n",
      "The behavior will change in pandas 3.0. This inplace method will never work because the intermediate object on which we are setting values always behaves as a copy.\n",
      "\n",
      "For example, when doing 'df[col].method(value, inplace=True)', try using 'df.method({col: value}, inplace=True)' or df[col] = df[col].method(value) instead, to perform the operation inplace on the original object.\n",
      "\n",
      "\n",
      "  all_df['GarageType'].fillna(value='Attchd',inplace=True)\n",
      "/tmp/ipykernel_17/114349460.py:19: FutureWarning: A value is trying to be set on a copy of a DataFrame or Series through chained assignment using an inplace method.\n",
      "The behavior will change in pandas 3.0. This inplace method will never work because the intermediate object on which we are setting values always behaves as a copy.\n",
      "\n",
      "For example, when doing 'df[col].method(value, inplace=True)', try using 'df.method({col: value}, inplace=True)' or df[col] = df[col].method(value) instead, to perform the operation inplace on the original object.\n",
      "\n",
      "\n",
      "  all_df['GarageYrBlt'].fillna(value=all_df['GarageYrBlt'].median(),inplace=True)\n",
      "/tmp/ipykernel_17/114349460.py:21: FutureWarning: A value is trying to be set on a copy of a DataFrame or Series through chained assignment using an inplace method.\n",
      "The behavior will change in pandas 3.0. This inplace method will never work because the intermediate object on which we are setting values always behaves as a copy.\n",
      "\n",
      "For example, when doing 'df[col].method(value, inplace=True)', try using 'df.method({col: value}, inplace=True)' or df[col] = df[col].method(value) instead, to perform the operation inplace on the original object.\n",
      "\n",
      "\n",
      "  all_df['GarageFinish'].fillna(value='Unf',inplace=True)\n",
      "/tmp/ipykernel_17/114349460.py:23: FutureWarning: A value is trying to be set on a copy of a DataFrame or Series through chained assignment using an inplace method.\n",
      "The behavior will change in pandas 3.0. This inplace method will never work because the intermediate object on which we are setting values always behaves as a copy.\n",
      "\n",
      "For example, when doing 'df[col].method(value, inplace=True)', try using 'df.method({col: value}, inplace=True)' or df[col] = df[col].method(value) instead, to perform the operation inplace on the original object.\n",
      "\n",
      "\n",
      "  all_df['GarageQual'].fillna(value='TA',inplace=True)\n",
      "/tmp/ipykernel_17/114349460.py:25: FutureWarning: A value is trying to be set on a copy of a DataFrame or Series through chained assignment using an inplace method.\n",
      "The behavior will change in pandas 3.0. This inplace method will never work because the intermediate object on which we are setting values always behaves as a copy.\n",
      "\n",
      "For example, when doing 'df[col].method(value, inplace=True)', try using 'df.method({col: value}, inplace=True)' or df[col] = df[col].method(value) instead, to perform the operation inplace on the original object.\n",
      "\n",
      "\n",
      "  all_df['GarageCond'].fillna(value='TA',inplace=True)\n",
      "/tmp/ipykernel_17/114349460.py:27: FutureWarning: A value is trying to be set on a copy of a DataFrame or Series through chained assignment using an inplace method.\n",
      "The behavior will change in pandas 3.0. This inplace method will never work because the intermediate object on which we are setting values always behaves as a copy.\n",
      "\n",
      "For example, when doing 'df[col].method(value, inplace=True)', try using 'df.method({col: value}, inplace=True)' or df[col] = df[col].method(value) instead, to perform the operation inplace on the original object.\n",
      "\n",
      "\n",
      "  all_df['BsmtFinType1'].fillna(value='NO',inplace=True)\n",
      "/tmp/ipykernel_17/114349460.py:29: FutureWarning: A value is trying to be set on a copy of a DataFrame or Series through chained assignment using an inplace method.\n",
      "The behavior will change in pandas 3.0. This inplace method will never work because the intermediate object on which we are setting values always behaves as a copy.\n",
      "\n",
      "For example, when doing 'df[col].method(value, inplace=True)', try using 'df.method({col: value}, inplace=True)' or df[col] = df[col].method(value) instead, to perform the operation inplace on the original object.\n",
      "\n",
      "\n",
      "  all_df['BsmtQual'].fillna(value='No',inplace=True)\n",
      "/tmp/ipykernel_17/114349460.py:31: FutureWarning: A value is trying to be set on a copy of a DataFrame or Series through chained assignment using an inplace method.\n",
      "The behavior will change in pandas 3.0. This inplace method will never work because the intermediate object on which we are setting values always behaves as a copy.\n",
      "\n",
      "For example, when doing 'df[col].method(value, inplace=True)', try using 'df.method({col: value}, inplace=True)' or df[col] = df[col].method(value) instead, to perform the operation inplace on the original object.\n",
      "\n",
      "\n",
      "  all_df['BsmtFullBath'].fillna(value=all_df['BsmtFullBath'].median(),inplace=True)\n",
      "/tmp/ipykernel_17/114349460.py:33: FutureWarning: A value is trying to be set on a copy of a DataFrame or Series through chained assignment using an inplace method.\n",
      "The behavior will change in pandas 3.0. This inplace method will never work because the intermediate object on which we are setting values always behaves as a copy.\n",
      "\n",
      "For example, when doing 'df[col].method(value, inplace=True)', try using 'df.method({col: value}, inplace=True)' or df[col] = df[col].method(value) instead, to perform the operation inplace on the original object.\n",
      "\n",
      "\n",
      "  all_df['BsmtFinSF1'].fillna(value=all_df['BsmtFinSF1'].median(),inplace=True)\n",
      "/tmp/ipykernel_17/114349460.py:35: FutureWarning: A value is trying to be set on a copy of a DataFrame or Series through chained assignment using an inplace method.\n",
      "The behavior will change in pandas 3.0. This inplace method will never work because the intermediate object on which we are setting values always behaves as a copy.\n",
      "\n",
      "For example, when doing 'df[col].method(value, inplace=True)', try using 'df.method({col: value}, inplace=True)' or df[col] = df[col].method(value) instead, to perform the operation inplace on the original object.\n",
      "\n",
      "\n",
      "  all_df['BsmtFinSF2'].fillna(value=0,inplace=True)\n",
      "/tmp/ipykernel_17/114349460.py:37: FutureWarning: A value is trying to be set on a copy of a DataFrame or Series through chained assignment using an inplace method.\n",
      "The behavior will change in pandas 3.0. This inplace method will never work because the intermediate object on which we are setting values always behaves as a copy.\n",
      "\n",
      "For example, when doing 'df[col].method(value, inplace=True)', try using 'df.method({col: value}, inplace=True)' or df[col] = df[col].method(value) instead, to perform the operation inplace on the original object.\n",
      "\n",
      "\n",
      "  all_df['BsmtUnfSF'].fillna(value=0,inplace=True)\n",
      "/tmp/ipykernel_17/114349460.py:39: FutureWarning: A value is trying to be set on a copy of a DataFrame or Series through chained assignment using an inplace method.\n",
      "The behavior will change in pandas 3.0. This inplace method will never work because the intermediate object on which we are setting values always behaves as a copy.\n",
      "\n",
      "For example, when doing 'df[col].method(value, inplace=True)', try using 'df.method({col: value}, inplace=True)' or df[col] = df[col].method(value) instead, to perform the operation inplace on the original object.\n",
      "\n",
      "\n",
      "  all_df['TotalBsmtSF'].fillna(value=all_df['TotalBsmtSF'].median(),inplace=True)\n",
      "/tmp/ipykernel_17/114349460.py:41: FutureWarning: A value is trying to be set on a copy of a DataFrame or Series through chained assignment using an inplace method.\n",
      "The behavior will change in pandas 3.0. This inplace method will never work because the intermediate object on which we are setting values always behaves as a copy.\n",
      "\n",
      "For example, when doing 'df[col].method(value, inplace=True)', try using 'df.method({col: value}, inplace=True)' or df[col] = df[col].method(value) instead, to perform the operation inplace on the original object.\n",
      "\n",
      "\n",
      "  all_df['BsmtHalfBath'].fillna(value=0,inplace=True)\n",
      "/tmp/ipykernel_17/114349460.py:43: FutureWarning: A value is trying to be set on a copy of a DataFrame or Series through chained assignment using an inplace method.\n",
      "The behavior will change in pandas 3.0. This inplace method will never work because the intermediate object on which we are setting values always behaves as a copy.\n",
      "\n",
      "For example, when doing 'df[col].method(value, inplace=True)', try using 'df.method({col: value}, inplace=True)' or df[col] = df[col].method(value) instead, to perform the operation inplace on the original object.\n",
      "\n",
      "\n",
      "  all_df['GarageCars'].fillna(value=all_df['GarageCars'].median(),inplace=True)\n",
      "/tmp/ipykernel_17/114349460.py:45: FutureWarning: A value is trying to be set on a copy of a DataFrame or Series through chained assignment using an inplace method.\n",
      "The behavior will change in pandas 3.0. This inplace method will never work because the intermediate object on which we are setting values always behaves as a copy.\n",
      "\n",
      "For example, when doing 'df[col].method(value, inplace=True)', try using 'df.method({col: value}, inplace=True)' or df[col] = df[col].method(value) instead, to perform the operation inplace on the original object.\n",
      "\n",
      "\n",
      "  all_df['GarageArea'].fillna(value=all_df['GarageArea'].median(),inplace=True)\n"
     ]
    }
   ],
   "source": [
    "# with all feature with few null views, we manually filled the missing data\n",
    "\n",
    "all_df['LotFrontage'].fillna(value=all_df['LotFrontage'].median(),inplace=True)\n",
    "\n",
    "all_df['MasVnrType'].fillna(value='None',inplace=True)\n",
    "\n",
    "all_df['MasVnrArea'].fillna(0,inplace=True)\n",
    "\n",
    "all_df['BsmtCond'].fillna(value='TA',inplace=True)\n",
    "\n",
    "all_df['BsmtExposure'].fillna(value='No',inplace=True)\n",
    "\n",
    "all_df['Electrical'].fillna(value='SBrkr',inplace=True)\n",
    "\n",
    "all_df['BsmtFinType2'].fillna(value='Unf',inplace=True)\n",
    "\n",
    "all_df['GarageType'].fillna(value='Attchd',inplace=True)\n",
    "\n",
    "all_df['GarageYrBlt'].fillna(value=all_df['GarageYrBlt'].median(),inplace=True)\n",
    "\n",
    "all_df['GarageFinish'].fillna(value='Unf',inplace=True)\n",
    "\n",
    "all_df['GarageQual'].fillna(value='TA',inplace=True)\n",
    "\n",
    "all_df['GarageCond'].fillna(value='TA',inplace=True)\n",
    "\n",
    "all_df['BsmtFinType1'].fillna(value='NO',inplace=True)\n",
    "\n",
    "all_df['BsmtQual'].fillna(value='No',inplace=True)\n",
    "\n",
    "all_df['BsmtFullBath'].fillna(value=all_df['BsmtFullBath'].median(),inplace=True)\n",
    "\n",
    "all_df['BsmtFinSF1'].fillna(value=all_df['BsmtFinSF1'].median(),inplace=True)\n",
    "\n",
    "all_df['BsmtFinSF2'].fillna(value=0,inplace=True)\n",
    "\n",
    "all_df['BsmtUnfSF'].fillna(value=0,inplace=True)\n",
    "\n",
    "all_df['TotalBsmtSF'].fillna(value=all_df['TotalBsmtSF'].median(),inplace=True)\n",
    "\n",
    "all_df['BsmtHalfBath'].fillna(value=0,inplace=True)\n",
    "\n",
    "all_df['GarageCars'].fillna(value=all_df['GarageCars'].median(),inplace=True)\n",
    "\n",
    "all_df['GarageArea'].fillna(value=all_df['GarageArea'].median(),inplace=True)"
   ]
  },
  {
   "cell_type": "code",
   "execution_count": 11,
   "id": "3ae428e9",
   "metadata": {
    "execution": {
     "iopub.execute_input": "2024-10-27T07:52:18.369140Z",
     "iopub.status.busy": "2024-10-27T07:52:18.367878Z",
     "iopub.status.idle": "2024-10-27T07:52:18.452615Z",
     "shell.execute_reply": "2024-10-27T07:52:18.451354Z"
    },
    "papermill": {
     "duration": 0.098955,
     "end_time": "2024-10-27T07:52:18.455578",
     "exception": false,
     "start_time": "2024-10-27T07:52:18.356623",
     "status": "completed"
    },
    "tags": []
   },
   "outputs": [],
   "source": [
    "#Using labelencoder from Ssklearn to convert \"categorical features\" to to a numerical format\n",
    "\n",
    "#This step is essential before feeding the data into Machine Learning models since they work better with numerical input\n",
    "\n",
    "labelencoder=LabelEncoder()\n",
    "\n",
    "\n",
    "\n",
    "all_df['MSZoning']      = labelencoder.fit_transform(all_df['MSZoning'].astype(str))\n",
    "\n",
    "all_df['Exterior1st']   = labelencoder.fit_transform(all_df['Exterior1st'].astype(str))\n",
    "\n",
    "all_df['Exterior2nd']   = labelencoder.fit_transform(all_df['Exterior2nd'].astype(str))\n",
    "\n",
    "all_df['KitchenQual']   = labelencoder.fit_transform(all_df['KitchenQual'].astype(str))\n",
    "\n",
    "all_df['Functional']    = labelencoder.fit_transform(all_df['Functional'].astype(str))\n",
    "\n",
    "all_df['SaleType']      = labelencoder.fit_transform(all_df['SaleType'].astype(str))\n",
    "\n",
    "all_df['Street']        = labelencoder.fit_transform(all_df['Street'])   \n",
    "\n",
    "all_df['LotShape']      = labelencoder.fit_transform(all_df['LotShape'])   \n",
    "\n",
    "all_df['LandContour']   = labelencoder.fit_transform(all_df['LandContour'])   \n",
    "\n",
    "all_df['LotConfig']     = labelencoder.fit_transform(all_df['LotConfig'])   \n",
    "\n",
    "all_df['LandSlope']     = labelencoder.fit_transform(all_df['LandSlope'])   \n",
    "\n",
    "all_df['Neighborhood']  = labelencoder.fit_transform(all_df['Neighborhood'])   \n",
    "\n",
    "all_df['Condition1']    = labelencoder.fit_transform(all_df['Condition1'])   \n",
    "\n",
    "all_df['Condition2']    = labelencoder.fit_transform(all_df['Condition2'])   \n",
    "\n",
    "all_df['BldgType']      = labelencoder.fit_transform(all_df['BldgType'])   \n",
    "\n",
    "all_df['HouseStyle']    = labelencoder.fit_transform(all_df['HouseStyle'])   \n",
    "\n",
    "all_df['RoofStyle']     = labelencoder.fit_transform(all_df['RoofStyle'])   \n",
    "\n",
    "all_df['RoofMatl']      = labelencoder.fit_transform(all_df['RoofMatl'])    \n",
    "\n",
    "all_df['MasVnrType']    = labelencoder.fit_transform(all_df['MasVnrType'])   \n",
    "\n",
    "all_df['ExterQual']     = labelencoder.fit_transform(all_df['ExterQual'])  \n",
    "\n",
    "all_df['ExterCond']     = labelencoder.fit_transform(all_df['ExterCond'])   \n",
    "\n",
    "all_df['Foundation']    = labelencoder.fit_transform(all_df['Foundation'])   \n",
    "\n",
    "all_df['BsmtQual']      = labelencoder.fit_transform(all_df['BsmtQual'])   \n",
    "\n",
    "all_df['BsmtCond']      = labelencoder.fit_transform(all_df['BsmtCond'])   \n",
    "\n",
    "all_df['BsmtExposure']  = labelencoder.fit_transform(all_df['BsmtExposure'])   \n",
    "\n",
    "all_df['BsmtFinType1']  = labelencoder.fit_transform(all_df['BsmtFinType1'])   \n",
    "\n",
    "all_df['BsmtFinType2']  = labelencoder.fit_transform(all_df['BsmtFinType2'])   \n",
    "\n",
    "all_df['Heating']       = labelencoder.fit_transform(all_df['Heating'])   \n",
    "\n",
    "all_df['HeatingQC']     = labelencoder.fit_transform(all_df['HeatingQC'])   \n",
    "\n",
    "all_df['CentralAir']    = labelencoder.fit_transform(all_df['CentralAir'])   \n",
    "\n",
    "all_df['Electrical']    = labelencoder.fit_transform(all_df['Electrical'])    \n",
    "\n",
    "all_df['GarageType']    = labelencoder.fit_transform(all_df['GarageType'])  \n",
    "\n",
    "all_df['GarageFinish']  = labelencoder.fit_transform(all_df['GarageFinish'])   \n",
    "\n",
    "all_df['GarageQual']    = labelencoder.fit_transform(all_df['GarageQual'])  \n",
    "\n",
    "all_df['GarageCond']    = labelencoder.fit_transform(all_df['GarageCond'])   \n",
    "\n",
    "all_df['PavedDrive']    = labelencoder.fit_transform(all_df['PavedDrive'])  \n",
    "\n",
    "all_df['SaleCondition'] = labelencoder.fit_transform(all_df['SaleCondition'])  "
   ]
  },
  {
   "cell_type": "code",
   "execution_count": 12,
   "id": "7b7e9e5b",
   "metadata": {
    "execution": {
     "iopub.execute_input": "2024-10-27T07:52:18.475029Z",
     "iopub.status.busy": "2024-10-27T07:52:18.474501Z",
     "iopub.status.idle": "2024-10-27T07:52:18.502244Z",
     "shell.execute_reply": "2024-10-27T07:52:18.500828Z"
    },
    "papermill": {
     "duration": 0.041262,
     "end_time": "2024-10-27T07:52:18.505601",
     "exception": false,
     "start_time": "2024-10-27T07:52:18.464339",
     "status": "completed"
    },
    "tags": []
   },
   "outputs": [],
   "source": [
    "#scales features by removing the mean\n",
    "\n",
    "Scaler = StandardScaler()\n",
    "\n",
    "# \".fit_transform()\" calculates the mean and standard deviation for scaling and then applies the transformation to the entire dataset (all_df)\n",
    "\n",
    "all_scaled   = pd.DataFrame(Scaler.fit_transform(all_df))\n",
    "\n",
    "#spliting th data into 50/50 :1460 -> firt 1460, 1460:2920 -> second 1460.\n",
    "\n",
    "#as the training set consists of the first 1460 rows (train_scaled), while the test set is the next 1460 rows (test_scaled)\n",
    "\n",
    "#train_scaled: This represents the feature set after feature scaling, which contains all the predictors (i.e., features)\n",
    "\n",
    "train_scaled = pd.DataFrame(all_scaled[:1460])\n",
    "\n",
    "test_scaled  = pd.DataFrame(all_scaled[1460:2920])"
   ]
  },
  {
   "cell_type": "code",
   "execution_count": 13,
   "id": "7245a952",
   "metadata": {
    "execution": {
     "iopub.execute_input": "2024-10-27T07:52:18.526402Z",
     "iopub.status.busy": "2024-10-27T07:52:18.525860Z",
     "iopub.status.idle": "2024-10-27T07:52:18.537312Z",
     "shell.execute_reply": "2024-10-27T07:52:18.535761Z"
    },
    "papermill": {
     "duration": 0.025592,
     "end_time": "2024-10-27T07:52:18.540381",
     "exception": false,
     "start_time": "2024-10-27T07:52:18.514789",
     "status": "completed"
    },
    "tags": []
   },
   "outputs": [],
   "source": [
    "X = train_scaled\n",
    "\n",
    "X_train, X_test, y_train, y_test = train_test_split(X, y['SalePrice'], test_size=0.1, random_state=42)"
   ]
  },
  {
   "cell_type": "code",
   "execution_count": 14,
   "id": "1b0af24e",
   "metadata": {
    "execution": {
     "iopub.execute_input": "2024-10-27T07:52:18.560957Z",
     "iopub.status.busy": "2024-10-27T07:52:18.560477Z",
     "iopub.status.idle": "2024-10-27T07:52:19.127068Z",
     "shell.execute_reply": "2024-10-27T07:52:19.126127Z"
    },
    "papermill": {
     "duration": 0.579734,
     "end_time": "2024-10-27T07:52:19.129369",
     "exception": false,
     "start_time": "2024-10-27T07:52:18.549635",
     "status": "completed"
    },
    "tags": []
   },
   "outputs": [
    {
     "data": {
      "text/html": [
       "<style>#sk-container-id-1 {color: black;background-color: white;}#sk-container-id-1 pre{padding: 0;}#sk-container-id-1 div.sk-toggleable {background-color: white;}#sk-container-id-1 label.sk-toggleable__label {cursor: pointer;display: block;width: 100%;margin-bottom: 0;padding: 0.3em;box-sizing: border-box;text-align: center;}#sk-container-id-1 label.sk-toggleable__label-arrow:before {content: \"▸\";float: left;margin-right: 0.25em;color: #696969;}#sk-container-id-1 label.sk-toggleable__label-arrow:hover:before {color: black;}#sk-container-id-1 div.sk-estimator:hover label.sk-toggleable__label-arrow:before {color: black;}#sk-container-id-1 div.sk-toggleable__content {max-height: 0;max-width: 0;overflow: hidden;text-align: left;background-color: #f0f8ff;}#sk-container-id-1 div.sk-toggleable__content pre {margin: 0.2em;color: black;border-radius: 0.25em;background-color: #f0f8ff;}#sk-container-id-1 input.sk-toggleable__control:checked~div.sk-toggleable__content {max-height: 200px;max-width: 100%;overflow: auto;}#sk-container-id-1 input.sk-toggleable__control:checked~label.sk-toggleable__label-arrow:before {content: \"▾\";}#sk-container-id-1 div.sk-estimator input.sk-toggleable__control:checked~label.sk-toggleable__label {background-color: #d4ebff;}#sk-container-id-1 div.sk-label input.sk-toggleable__control:checked~label.sk-toggleable__label {background-color: #d4ebff;}#sk-container-id-1 input.sk-hidden--visually {border: 0;clip: rect(1px 1px 1px 1px);clip: rect(1px, 1px, 1px, 1px);height: 1px;margin: -1px;overflow: hidden;padding: 0;position: absolute;width: 1px;}#sk-container-id-1 div.sk-estimator {font-family: monospace;background-color: #f0f8ff;border: 1px dotted black;border-radius: 0.25em;box-sizing: border-box;margin-bottom: 0.5em;}#sk-container-id-1 div.sk-estimator:hover {background-color: #d4ebff;}#sk-container-id-1 div.sk-parallel-item::after {content: \"\";width: 100%;border-bottom: 1px solid gray;flex-grow: 1;}#sk-container-id-1 div.sk-label:hover label.sk-toggleable__label {background-color: #d4ebff;}#sk-container-id-1 div.sk-serial::before {content: \"\";position: absolute;border-left: 1px solid gray;box-sizing: border-box;top: 0;bottom: 0;left: 50%;z-index: 0;}#sk-container-id-1 div.sk-serial {display: flex;flex-direction: column;align-items: center;background-color: white;padding-right: 0.2em;padding-left: 0.2em;position: relative;}#sk-container-id-1 div.sk-item {position: relative;z-index: 1;}#sk-container-id-1 div.sk-parallel {display: flex;align-items: stretch;justify-content: center;background-color: white;position: relative;}#sk-container-id-1 div.sk-item::before, #sk-container-id-1 div.sk-parallel-item::before {content: \"\";position: absolute;border-left: 1px solid gray;box-sizing: border-box;top: 0;bottom: 0;left: 50%;z-index: -1;}#sk-container-id-1 div.sk-parallel-item {display: flex;flex-direction: column;z-index: 1;position: relative;background-color: white;}#sk-container-id-1 div.sk-parallel-item:first-child::after {align-self: flex-end;width: 50%;}#sk-container-id-1 div.sk-parallel-item:last-child::after {align-self: flex-start;width: 50%;}#sk-container-id-1 div.sk-parallel-item:only-child::after {width: 0;}#sk-container-id-1 div.sk-dashed-wrapped {border: 1px dashed gray;margin: 0 0.4em 0.5em 0.4em;box-sizing: border-box;padding-bottom: 0.4em;background-color: white;}#sk-container-id-1 div.sk-label label {font-family: monospace;font-weight: bold;display: inline-block;line-height: 1.2em;}#sk-container-id-1 div.sk-label-container {text-align: center;}#sk-container-id-1 div.sk-container {/* jupyter's `normalize.less` sets `[hidden] { display: none; }` but bootstrap.min.css set `[hidden] { display: none !important; }` so we also need the `!important` here to be able to override the default hidden behavior on the sphinx rendered scikit-learn.org. See: https://github.com/scikit-learn/scikit-learn/issues/21755 */display: inline-block !important;position: relative;}#sk-container-id-1 div.sk-text-repr-fallback {display: none;}</style><div id=\"sk-container-id-1\" class=\"sk-top-container\"><div class=\"sk-text-repr-fallback\"><pre>XGBRegressor(base_score=None, booster=None, callbacks=None,\n",
       "             colsample_bylevel=None, colsample_bynode=None,\n",
       "             colsample_bytree=None, device=None, early_stopping_rounds=None,\n",
       "             enable_categorical=False, eval_metric=None, feature_types=None,\n",
       "             gamma=None, grow_policy=None, importance_type=None,\n",
       "             interaction_constraints=None, learning_rate=0.17851317118854057,\n",
       "             max_bin=None, max_cat_threshold=None, max_cat_to_onehot=None,\n",
       "             max_delta_step=None, max_depth=3, max_leaves=None,\n",
       "             min_child_weight=3, missing=nan, monotone_constraints=None,\n",
       "             multi_strategy=None, n_estimators=319, n_jobs=-1,\n",
       "             num_parallel_tree=None, random_state=None, ...)</pre><b>In a Jupyter environment, please rerun this cell to show the HTML representation or trust the notebook. <br />On GitHub, the HTML representation is unable to render, please try loading this page with nbviewer.org.</b></div><div class=\"sk-container\" hidden><div class=\"sk-item\"><div class=\"sk-estimator sk-toggleable\"><input class=\"sk-toggleable__control sk-hidden--visually\" id=\"sk-estimator-id-1\" type=\"checkbox\" checked><label for=\"sk-estimator-id-1\" class=\"sk-toggleable__label sk-toggleable__label-arrow\">XGBRegressor</label><div class=\"sk-toggleable__content\"><pre>XGBRegressor(base_score=None, booster=None, callbacks=None,\n",
       "             colsample_bylevel=None, colsample_bynode=None,\n",
       "             colsample_bytree=None, device=None, early_stopping_rounds=None,\n",
       "             enable_categorical=False, eval_metric=None, feature_types=None,\n",
       "             gamma=None, grow_policy=None, importance_type=None,\n",
       "             interaction_constraints=None, learning_rate=0.17851317118854057,\n",
       "             max_bin=None, max_cat_threshold=None, max_cat_to_onehot=None,\n",
       "             max_delta_step=None, max_depth=3, max_leaves=None,\n",
       "             min_child_weight=3, missing=nan, monotone_constraints=None,\n",
       "             multi_strategy=None, n_estimators=319, n_jobs=-1,\n",
       "             num_parallel_tree=None, random_state=None, ...)</pre></div></div></div></div></div>"
      ],
      "text/plain": [
       "XGBRegressor(base_score=None, booster=None, callbacks=None,\n",
       "             colsample_bylevel=None, colsample_bynode=None,\n",
       "             colsample_bytree=None, device=None, early_stopping_rounds=None,\n",
       "             enable_categorical=False, eval_metric=None, feature_types=None,\n",
       "             gamma=None, grow_policy=None, importance_type=None,\n",
       "             interaction_constraints=None, learning_rate=0.17851317118854057,\n",
       "             max_bin=None, max_cat_threshold=None, max_cat_to_onehot=None,\n",
       "             max_delta_step=None, max_depth=3, max_leaves=None,\n",
       "             min_child_weight=3, missing=nan, monotone_constraints=None,\n",
       "             multi_strategy=None, n_estimators=319, n_jobs=-1,\n",
       "             num_parallel_tree=None, random_state=None, ...)"
      ]
     },
     "execution_count": 14,
     "metadata": {},
     "output_type": "execute_result"
    }
   ],
   "source": [
    "\n",
    "\n",
    "XGB1 = XGBRegressor(\n",
    "\n",
    "    max_depth=3,       # maximum depth\n",
    "\n",
    "    learning_rate=0.17851317118854057,  # 学习率\n",
    "\n",
    "    n_estimators=319,  # boosting rounds\n",
    "\n",
    "    reg_alpha=0.1070232678681972,  # alpha\n",
    "\n",
    "    reg_lambda=9.21620230766857e-05,  # lambda\n",
    "\n",
    "    min_child_weight=3,  # minimum child weight\n",
    "\n",
    "    n_jobs=-1,  # 使用所有可用的 CPU\n",
    "\n",
    ")                  #^^(A higher value makes the model more conservative by preventing the tree from growing too complex )\n",
    "\n",
    "XGB1.fit(X_train,y_train)"
   ]
  },
  {
   "cell_type": "code",
   "execution_count": 15,
   "id": "0f5fe319",
   "metadata": {
    "execution": {
     "iopub.execute_input": "2024-10-27T07:52:19.149722Z",
     "iopub.status.busy": "2024-10-27T07:52:19.149235Z",
     "iopub.status.idle": "2024-10-27T07:52:20.547096Z",
     "shell.execute_reply": "2024-10-27T07:52:20.545701Z"
    },
    "papermill": {
     "duration": 1.411406,
     "end_time": "2024-10-27T07:52:20.550020",
     "exception": false,
     "start_time": "2024-10-27T07:52:19.138614",
     "status": "completed"
    },
    "tags": []
   },
   "outputs": [
    {
     "data": {
      "text/html": [
       "<style>#sk-container-id-2 {color: black;background-color: white;}#sk-container-id-2 pre{padding: 0;}#sk-container-id-2 div.sk-toggleable {background-color: white;}#sk-container-id-2 label.sk-toggleable__label {cursor: pointer;display: block;width: 100%;margin-bottom: 0;padding: 0.3em;box-sizing: border-box;text-align: center;}#sk-container-id-2 label.sk-toggleable__label-arrow:before {content: \"▸\";float: left;margin-right: 0.25em;color: #696969;}#sk-container-id-2 label.sk-toggleable__label-arrow:hover:before {color: black;}#sk-container-id-2 div.sk-estimator:hover label.sk-toggleable__label-arrow:before {color: black;}#sk-container-id-2 div.sk-toggleable__content {max-height: 0;max-width: 0;overflow: hidden;text-align: left;background-color: #f0f8ff;}#sk-container-id-2 div.sk-toggleable__content pre {margin: 0.2em;color: black;border-radius: 0.25em;background-color: #f0f8ff;}#sk-container-id-2 input.sk-toggleable__control:checked~div.sk-toggleable__content {max-height: 200px;max-width: 100%;overflow: auto;}#sk-container-id-2 input.sk-toggleable__control:checked~label.sk-toggleable__label-arrow:before {content: \"▾\";}#sk-container-id-2 div.sk-estimator input.sk-toggleable__control:checked~label.sk-toggleable__label {background-color: #d4ebff;}#sk-container-id-2 div.sk-label input.sk-toggleable__control:checked~label.sk-toggleable__label {background-color: #d4ebff;}#sk-container-id-2 input.sk-hidden--visually {border: 0;clip: rect(1px 1px 1px 1px);clip: rect(1px, 1px, 1px, 1px);height: 1px;margin: -1px;overflow: hidden;padding: 0;position: absolute;width: 1px;}#sk-container-id-2 div.sk-estimator {font-family: monospace;background-color: #f0f8ff;border: 1px dotted black;border-radius: 0.25em;box-sizing: border-box;margin-bottom: 0.5em;}#sk-container-id-2 div.sk-estimator:hover {background-color: #d4ebff;}#sk-container-id-2 div.sk-parallel-item::after {content: \"\";width: 100%;border-bottom: 1px solid gray;flex-grow: 1;}#sk-container-id-2 div.sk-label:hover label.sk-toggleable__label {background-color: #d4ebff;}#sk-container-id-2 div.sk-serial::before {content: \"\";position: absolute;border-left: 1px solid gray;box-sizing: border-box;top: 0;bottom: 0;left: 50%;z-index: 0;}#sk-container-id-2 div.sk-serial {display: flex;flex-direction: column;align-items: center;background-color: white;padding-right: 0.2em;padding-left: 0.2em;position: relative;}#sk-container-id-2 div.sk-item {position: relative;z-index: 1;}#sk-container-id-2 div.sk-parallel {display: flex;align-items: stretch;justify-content: center;background-color: white;position: relative;}#sk-container-id-2 div.sk-item::before, #sk-container-id-2 div.sk-parallel-item::before {content: \"\";position: absolute;border-left: 1px solid gray;box-sizing: border-box;top: 0;bottom: 0;left: 50%;z-index: -1;}#sk-container-id-2 div.sk-parallel-item {display: flex;flex-direction: column;z-index: 1;position: relative;background-color: white;}#sk-container-id-2 div.sk-parallel-item:first-child::after {align-self: flex-end;width: 50%;}#sk-container-id-2 div.sk-parallel-item:last-child::after {align-self: flex-start;width: 50%;}#sk-container-id-2 div.sk-parallel-item:only-child::after {width: 0;}#sk-container-id-2 div.sk-dashed-wrapped {border: 1px dashed gray;margin: 0 0.4em 0.5em 0.4em;box-sizing: border-box;padding-bottom: 0.4em;background-color: white;}#sk-container-id-2 div.sk-label label {font-family: monospace;font-weight: bold;display: inline-block;line-height: 1.2em;}#sk-container-id-2 div.sk-label-container {text-align: center;}#sk-container-id-2 div.sk-container {/* jupyter's `normalize.less` sets `[hidden] { display: none; }` but bootstrap.min.css set `[hidden] { display: none !important; }` so we also need the `!important` here to be able to override the default hidden behavior on the sphinx rendered scikit-learn.org. See: https://github.com/scikit-learn/scikit-learn/issues/21755 */display: inline-block !important;position: relative;}#sk-container-id-2 div.sk-text-repr-fallback {display: none;}</style><div id=\"sk-container-id-2\" class=\"sk-top-container\"><div class=\"sk-text-repr-fallback\"><pre>XGBRegressor(base_score=None, booster=None, callbacks=None,\n",
       "             colsample_bylevel=None, colsample_bynode=None,\n",
       "             colsample_bytree=None, device=None, early_stopping_rounds=None,\n",
       "             enable_categorical=False, eval_metric=None, feature_types=None,\n",
       "             gamma=None, grow_policy=None, importance_type=None,\n",
       "             interaction_constraints=None, learning_rate=0.0364507719136609,\n",
       "             max_bin=None, max_cat_threshold=None, max_cat_to_onehot=None,\n",
       "             max_delta_step=None, max_depth=3, max_leaves=None,\n",
       "             min_child_weight=3, missing=nan, monotone_constraints=None,\n",
       "             multi_strategy=None, n_estimators=965, n_jobs=-1,\n",
       "             num_parallel_tree=None, random_state=None, ...)</pre><b>In a Jupyter environment, please rerun this cell to show the HTML representation or trust the notebook. <br />On GitHub, the HTML representation is unable to render, please try loading this page with nbviewer.org.</b></div><div class=\"sk-container\" hidden><div class=\"sk-item\"><div class=\"sk-estimator sk-toggleable\"><input class=\"sk-toggleable__control sk-hidden--visually\" id=\"sk-estimator-id-2\" type=\"checkbox\" checked><label for=\"sk-estimator-id-2\" class=\"sk-toggleable__label sk-toggleable__label-arrow\">XGBRegressor</label><div class=\"sk-toggleable__content\"><pre>XGBRegressor(base_score=None, booster=None, callbacks=None,\n",
       "             colsample_bylevel=None, colsample_bynode=None,\n",
       "             colsample_bytree=None, device=None, early_stopping_rounds=None,\n",
       "             enable_categorical=False, eval_metric=None, feature_types=None,\n",
       "             gamma=None, grow_policy=None, importance_type=None,\n",
       "             interaction_constraints=None, learning_rate=0.0364507719136609,\n",
       "             max_bin=None, max_cat_threshold=None, max_cat_to_onehot=None,\n",
       "             max_delta_step=None, max_depth=3, max_leaves=None,\n",
       "             min_child_weight=3, missing=nan, monotone_constraints=None,\n",
       "             multi_strategy=None, n_estimators=965, n_jobs=-1,\n",
       "             num_parallel_tree=None, random_state=None, ...)</pre></div></div></div></div></div>"
      ],
      "text/plain": [
       "XGBRegressor(base_score=None, booster=None, callbacks=None,\n",
       "             colsample_bylevel=None, colsample_bynode=None,\n",
       "             colsample_bytree=None, device=None, early_stopping_rounds=None,\n",
       "             enable_categorical=False, eval_metric=None, feature_types=None,\n",
       "             gamma=None, grow_policy=None, importance_type=None,\n",
       "             interaction_constraints=None, learning_rate=0.0364507719136609,\n",
       "             max_bin=None, max_cat_threshold=None, max_cat_to_onehot=None,\n",
       "             max_delta_step=None, max_depth=3, max_leaves=None,\n",
       "             min_child_weight=3, missing=nan, monotone_constraints=None,\n",
       "             multi_strategy=None, n_estimators=965, n_jobs=-1,\n",
       "             num_parallel_tree=None, random_state=None, ...)"
      ]
     },
     "execution_count": 15,
     "metadata": {},
     "output_type": "execute_result"
    }
   ],
   "source": [
    "XGB2 = XGBRegressor(\n",
    "\n",
    "    max_depth=3,  # maximum depth\n",
    "\n",
    "    learning_rate=0.0364507719136609,  # 学习率\n",
    "\n",
    "    n_estimators=965,  # boosting rounds\n",
    "\n",
    "    reg_alpha=0.00018131710013969177,  # alpha\n",
    "\n",
    "    reg_lambda=2.3152099456723933e-07,  # lambda\n",
    "\n",
    "    min_child_weight=3,  # minimum child weight\n",
    "\n",
    "    n_jobs=-1  # 使用所有可用的 CPU\n",
    "\n",
    ")                   #^^(A higher value makes the model more conservative by preventing the tree from growing too complex )\n",
    "\n",
    "XGB2.fit(X_train,y_train)"
   ]
  },
  {
   "cell_type": "code",
   "execution_count": 16,
   "id": "b48f9084",
   "metadata": {
    "execution": {
     "iopub.execute_input": "2024-10-27T07:52:20.571053Z",
     "iopub.status.busy": "2024-10-27T07:52:20.570579Z",
     "iopub.status.idle": "2024-10-27T07:52:24.635294Z",
     "shell.execute_reply": "2024-10-27T07:52:24.633975Z"
    },
    "papermill": {
     "duration": 4.078527,
     "end_time": "2024-10-27T07:52:24.638236",
     "exception": false,
     "start_time": "2024-10-27T07:52:20.559709",
     "status": "completed"
    },
    "tags": []
   },
   "outputs": [
    {
     "data": {
      "text/html": [
       "<style>#sk-container-id-3 {color: black;background-color: white;}#sk-container-id-3 pre{padding: 0;}#sk-container-id-3 div.sk-toggleable {background-color: white;}#sk-container-id-3 label.sk-toggleable__label {cursor: pointer;display: block;width: 100%;margin-bottom: 0;padding: 0.3em;box-sizing: border-box;text-align: center;}#sk-container-id-3 label.sk-toggleable__label-arrow:before {content: \"▸\";float: left;margin-right: 0.25em;color: #696969;}#sk-container-id-3 label.sk-toggleable__label-arrow:hover:before {color: black;}#sk-container-id-3 div.sk-estimator:hover label.sk-toggleable__label-arrow:before {color: black;}#sk-container-id-3 div.sk-toggleable__content {max-height: 0;max-width: 0;overflow: hidden;text-align: left;background-color: #f0f8ff;}#sk-container-id-3 div.sk-toggleable__content pre {margin: 0.2em;color: black;border-radius: 0.25em;background-color: #f0f8ff;}#sk-container-id-3 input.sk-toggleable__control:checked~div.sk-toggleable__content {max-height: 200px;max-width: 100%;overflow: auto;}#sk-container-id-3 input.sk-toggleable__control:checked~label.sk-toggleable__label-arrow:before {content: \"▾\";}#sk-container-id-3 div.sk-estimator input.sk-toggleable__control:checked~label.sk-toggleable__label {background-color: #d4ebff;}#sk-container-id-3 div.sk-label input.sk-toggleable__control:checked~label.sk-toggleable__label {background-color: #d4ebff;}#sk-container-id-3 input.sk-hidden--visually {border: 0;clip: rect(1px 1px 1px 1px);clip: rect(1px, 1px, 1px, 1px);height: 1px;margin: -1px;overflow: hidden;padding: 0;position: absolute;width: 1px;}#sk-container-id-3 div.sk-estimator {font-family: monospace;background-color: #f0f8ff;border: 1px dotted black;border-radius: 0.25em;box-sizing: border-box;margin-bottom: 0.5em;}#sk-container-id-3 div.sk-estimator:hover {background-color: #d4ebff;}#sk-container-id-3 div.sk-parallel-item::after {content: \"\";width: 100%;border-bottom: 1px solid gray;flex-grow: 1;}#sk-container-id-3 div.sk-label:hover label.sk-toggleable__label {background-color: #d4ebff;}#sk-container-id-3 div.sk-serial::before {content: \"\";position: absolute;border-left: 1px solid gray;box-sizing: border-box;top: 0;bottom: 0;left: 50%;z-index: 0;}#sk-container-id-3 div.sk-serial {display: flex;flex-direction: column;align-items: center;background-color: white;padding-right: 0.2em;padding-left: 0.2em;position: relative;}#sk-container-id-3 div.sk-item {position: relative;z-index: 1;}#sk-container-id-3 div.sk-parallel {display: flex;align-items: stretch;justify-content: center;background-color: white;position: relative;}#sk-container-id-3 div.sk-item::before, #sk-container-id-3 div.sk-parallel-item::before {content: \"\";position: absolute;border-left: 1px solid gray;box-sizing: border-box;top: 0;bottom: 0;left: 50%;z-index: -1;}#sk-container-id-3 div.sk-parallel-item {display: flex;flex-direction: column;z-index: 1;position: relative;background-color: white;}#sk-container-id-3 div.sk-parallel-item:first-child::after {align-self: flex-end;width: 50%;}#sk-container-id-3 div.sk-parallel-item:last-child::after {align-self: flex-start;width: 50%;}#sk-container-id-3 div.sk-parallel-item:only-child::after {width: 0;}#sk-container-id-3 div.sk-dashed-wrapped {border: 1px dashed gray;margin: 0 0.4em 0.5em 0.4em;box-sizing: border-box;padding-bottom: 0.4em;background-color: white;}#sk-container-id-3 div.sk-label label {font-family: monospace;font-weight: bold;display: inline-block;line-height: 1.2em;}#sk-container-id-3 div.sk-label-container {text-align: center;}#sk-container-id-3 div.sk-container {/* jupyter's `normalize.less` sets `[hidden] { display: none; }` but bootstrap.min.css set `[hidden] { display: none !important; }` so we also need the `!important` here to be able to override the default hidden behavior on the sphinx rendered scikit-learn.org. See: https://github.com/scikit-learn/scikit-learn/issues/21755 */display: inline-block !important;position: relative;}#sk-container-id-3 div.sk-text-repr-fallback {display: none;}</style><div id=\"sk-container-id-3\" class=\"sk-top-container\"><div class=\"sk-text-repr-fallback\"><pre>RandomForestRegressor(bootstrap=False, max_depth=18,\n",
       "                      max_features=0.7084875029768692, min_samples_leaf=2,\n",
       "                      n_estimators=198, random_state=42)</pre><b>In a Jupyter environment, please rerun this cell to show the HTML representation or trust the notebook. <br />On GitHub, the HTML representation is unable to render, please try loading this page with nbviewer.org.</b></div><div class=\"sk-container\" hidden><div class=\"sk-item\"><div class=\"sk-estimator sk-toggleable\"><input class=\"sk-toggleable__control sk-hidden--visually\" id=\"sk-estimator-id-3\" type=\"checkbox\" checked><label for=\"sk-estimator-id-3\" class=\"sk-toggleable__label sk-toggleable__label-arrow\">RandomForestRegressor</label><div class=\"sk-toggleable__content\"><pre>RandomForestRegressor(bootstrap=False, max_depth=18,\n",
       "                      max_features=0.7084875029768692, min_samples_leaf=2,\n",
       "                      n_estimators=198, random_state=42)</pre></div></div></div></div></div>"
      ],
      "text/plain": [
       "RandomForestRegressor(bootstrap=False, max_depth=18,\n",
       "                      max_features=0.7084875029768692, min_samples_leaf=2,\n",
       "                      n_estimators=198, random_state=42)"
      ]
     },
     "execution_count": 16,
     "metadata": {},
     "output_type": "execute_result"
    }
   ],
   "source": [
    "\n",
    "\n",
    "RF1 = RandomForestRegressor(\n",
    "\n",
    "    n_estimators=198,  # 决策树数量\n",
    "\n",
    "    max_depth=18,  # 最大树深度\n",
    "\n",
    "    min_samples_split=2,  # 最小样本分割数\n",
    "\n",
    "    min_samples_leaf=2,  # 叶节点最小样本数\n",
    "\n",
    "    max_features=0.7084875029768692,  # 最大特征比例\n",
    "\n",
    "    bootstrap=False,  # 是否启用bootstrap\n",
    "\n",
    "    random_state=42  # 保持结果可重复\n",
    "\n",
    ")\n",
    "\n",
    "RF1.fit(X_train, y_train)\n",
    "\n",
    "\n",
    "\n",
    "\n"
   ]
  },
  {
   "cell_type": "code",
   "execution_count": 17,
   "id": "88a1a34e",
   "metadata": {
    "execution": {
     "iopub.execute_input": "2024-10-27T07:52:24.661733Z",
     "iopub.status.busy": "2024-10-27T07:52:24.661297Z",
     "iopub.status.idle": "2024-10-27T07:52:29.959692Z",
     "shell.execute_reply": "2024-10-27T07:52:29.958442Z"
    },
    "papermill": {
     "duration": 5.314067,
     "end_time": "2024-10-27T07:52:29.962660",
     "exception": false,
     "start_time": "2024-10-27T07:52:24.648593",
     "status": "completed"
    },
    "tags": []
   },
   "outputs": [
    {
     "data": {
      "text/html": [
       "<style>#sk-container-id-4 {color: black;background-color: white;}#sk-container-id-4 pre{padding: 0;}#sk-container-id-4 div.sk-toggleable {background-color: white;}#sk-container-id-4 label.sk-toggleable__label {cursor: pointer;display: block;width: 100%;margin-bottom: 0;padding: 0.3em;box-sizing: border-box;text-align: center;}#sk-container-id-4 label.sk-toggleable__label-arrow:before {content: \"▸\";float: left;margin-right: 0.25em;color: #696969;}#sk-container-id-4 label.sk-toggleable__label-arrow:hover:before {color: black;}#sk-container-id-4 div.sk-estimator:hover label.sk-toggleable__label-arrow:before {color: black;}#sk-container-id-4 div.sk-toggleable__content {max-height: 0;max-width: 0;overflow: hidden;text-align: left;background-color: #f0f8ff;}#sk-container-id-4 div.sk-toggleable__content pre {margin: 0.2em;color: black;border-radius: 0.25em;background-color: #f0f8ff;}#sk-container-id-4 input.sk-toggleable__control:checked~div.sk-toggleable__content {max-height: 200px;max-width: 100%;overflow: auto;}#sk-container-id-4 input.sk-toggleable__control:checked~label.sk-toggleable__label-arrow:before {content: \"▾\";}#sk-container-id-4 div.sk-estimator input.sk-toggleable__control:checked~label.sk-toggleable__label {background-color: #d4ebff;}#sk-container-id-4 div.sk-label input.sk-toggleable__control:checked~label.sk-toggleable__label {background-color: #d4ebff;}#sk-container-id-4 input.sk-hidden--visually {border: 0;clip: rect(1px 1px 1px 1px);clip: rect(1px, 1px, 1px, 1px);height: 1px;margin: -1px;overflow: hidden;padding: 0;position: absolute;width: 1px;}#sk-container-id-4 div.sk-estimator {font-family: monospace;background-color: #f0f8ff;border: 1px dotted black;border-radius: 0.25em;box-sizing: border-box;margin-bottom: 0.5em;}#sk-container-id-4 div.sk-estimator:hover {background-color: #d4ebff;}#sk-container-id-4 div.sk-parallel-item::after {content: \"\";width: 100%;border-bottom: 1px solid gray;flex-grow: 1;}#sk-container-id-4 div.sk-label:hover label.sk-toggleable__label {background-color: #d4ebff;}#sk-container-id-4 div.sk-serial::before {content: \"\";position: absolute;border-left: 1px solid gray;box-sizing: border-box;top: 0;bottom: 0;left: 50%;z-index: 0;}#sk-container-id-4 div.sk-serial {display: flex;flex-direction: column;align-items: center;background-color: white;padding-right: 0.2em;padding-left: 0.2em;position: relative;}#sk-container-id-4 div.sk-item {position: relative;z-index: 1;}#sk-container-id-4 div.sk-parallel {display: flex;align-items: stretch;justify-content: center;background-color: white;position: relative;}#sk-container-id-4 div.sk-item::before, #sk-container-id-4 div.sk-parallel-item::before {content: \"\";position: absolute;border-left: 1px solid gray;box-sizing: border-box;top: 0;bottom: 0;left: 50%;z-index: -1;}#sk-container-id-4 div.sk-parallel-item {display: flex;flex-direction: column;z-index: 1;position: relative;background-color: white;}#sk-container-id-4 div.sk-parallel-item:first-child::after {align-self: flex-end;width: 50%;}#sk-container-id-4 div.sk-parallel-item:last-child::after {align-self: flex-start;width: 50%;}#sk-container-id-4 div.sk-parallel-item:only-child::after {width: 0;}#sk-container-id-4 div.sk-dashed-wrapped {border: 1px dashed gray;margin: 0 0.4em 0.5em 0.4em;box-sizing: border-box;padding-bottom: 0.4em;background-color: white;}#sk-container-id-4 div.sk-label label {font-family: monospace;font-weight: bold;display: inline-block;line-height: 1.2em;}#sk-container-id-4 div.sk-label-container {text-align: center;}#sk-container-id-4 div.sk-container {/* jupyter's `normalize.less` sets `[hidden] { display: none; }` but bootstrap.min.css set `[hidden] { display: none !important; }` so we also need the `!important` here to be able to override the default hidden behavior on the sphinx rendered scikit-learn.org. See: https://github.com/scikit-learn/scikit-learn/issues/21755 */display: inline-block !important;position: relative;}#sk-container-id-4 div.sk-text-repr-fallback {display: none;}</style><div id=\"sk-container-id-4\" class=\"sk-top-container\"><div class=\"sk-text-repr-fallback\"><pre>RandomForestRegressor(bootstrap=False, max_depth=20,\n",
       "                      max_features=0.496408431158935, n_estimators=293,\n",
       "                      random_state=42)</pre><b>In a Jupyter environment, please rerun this cell to show the HTML representation or trust the notebook. <br />On GitHub, the HTML representation is unable to render, please try loading this page with nbviewer.org.</b></div><div class=\"sk-container\" hidden><div class=\"sk-item\"><div class=\"sk-estimator sk-toggleable\"><input class=\"sk-toggleable__control sk-hidden--visually\" id=\"sk-estimator-id-4\" type=\"checkbox\" checked><label for=\"sk-estimator-id-4\" class=\"sk-toggleable__label sk-toggleable__label-arrow\">RandomForestRegressor</label><div class=\"sk-toggleable__content\"><pre>RandomForestRegressor(bootstrap=False, max_depth=20,\n",
       "                      max_features=0.496408431158935, n_estimators=293,\n",
       "                      random_state=42)</pre></div></div></div></div></div>"
      ],
      "text/plain": [
       "RandomForestRegressor(bootstrap=False, max_depth=20,\n",
       "                      max_features=0.496408431158935, n_estimators=293,\n",
       "                      random_state=42)"
      ]
     },
     "execution_count": 17,
     "metadata": {},
     "output_type": "execute_result"
    }
   ],
   "source": [
    "RF2 = RandomForestRegressor(\n",
    "\n",
    "    n_estimators=293,  # 决策树数量\n",
    "\n",
    "    max_depth=20,  # 最大树深度\n",
    "\n",
    "    min_samples_split=2,  # 最小样本分割数\n",
    "\n",
    "    min_samples_leaf=1,  # 叶节点最小样本数\n",
    "\n",
    "    max_features=0.496408431158935,  # 最大特征比例\n",
    "\n",
    "    bootstrap=False,  # 是否启用bootstrap\n",
    "\n",
    "    random_state=42  # 保持结果可重复\n",
    "\n",
    ")\n",
    "\n",
    "\n",
    "\n",
    "RF2.fit(X_train, y_train)"
   ]
  },
  {
   "cell_type": "code",
   "execution_count": 18,
   "id": "d05a316f",
   "metadata": {
    "execution": {
     "iopub.execute_input": "2024-10-27T07:52:29.987510Z",
     "iopub.status.busy": "2024-10-27T07:52:29.986238Z",
     "iopub.status.idle": "2024-10-27T07:52:29.992340Z",
     "shell.execute_reply": "2024-10-27T07:52:29.990846Z"
    },
    "papermill": {
     "duration": 0.021427,
     "end_time": "2024-10-27T07:52:29.995141",
     "exception": false,
     "start_time": "2024-10-27T07:52:29.973714",
     "status": "completed"
    },
    "tags": []
   },
   "outputs": [],
   "source": [
    "xgb_tunning=False"
   ]
  },
  {
   "cell_type": "code",
   "execution_count": 19,
   "id": "4b2e47d0",
   "metadata": {
    "execution": {
     "iopub.execute_input": "2024-10-27T07:52:30.019173Z",
     "iopub.status.busy": "2024-10-27T07:52:30.017850Z",
     "iopub.status.idle": "2024-10-27T07:52:30.191267Z",
     "shell.execute_reply": "2024-10-27T07:52:30.189823Z"
    },
    "papermill": {
     "duration": 0.18843,
     "end_time": "2024-10-27T07:52:30.194179",
     "exception": false,
     "start_time": "2024-10-27T07:52:30.005749",
     "status": "completed"
    },
    "tags": []
   },
   "outputs": [],
   "source": [
    "import optuna\n",
    "\n",
    "import numpy as np\n",
    "\n",
    "from sklearn.metrics import mean_squared_error\n",
    "\n",
    "from xgboost import XGBRegressor\n",
    "\n",
    "from sklearn.model_selection import train_test_split\n",
    "\n",
    "\n",
    "\n",
    "# 假设 X 和 y 已经准备好\n",
    "\n",
    "X_train, X_val, y_train, y_val = train_test_split(X, y, test_size=0.2, random_state=42)\n",
    "\n",
    "\n",
    "\n",
    "def objective(trial):\n",
    "\n",
    "    params = {\n",
    "\n",
    "        'max_depth': trial.suggest_int('max_depth', 2, 10),\n",
    "\n",
    "        'learning_rate': trial.suggest_loguniform('learning_rate', 1e-3, 0.3),\n",
    "\n",
    "        'n_estimators': trial.suggest_int('n_estimators', 100, 1000),\n",
    "\n",
    "        'reg_alpha': trial.suggest_loguniform('reg_alpha', 1e-8, 1.0),\n",
    "\n",
    "        'reg_lambda': trial.suggest_loguniform('reg_lambda', 1e-8, 1.0),\n",
    "\n",
    "        'min_child_weight': trial.suggest_int('min_child_weight', 1, 10),\n",
    "\n",
    "        'subsample': trial.suggest_uniform('subsample', 0.6, 1.0),\n",
    "\n",
    "        'colsample_bytree': trial.suggest_uniform('colsample_bytree', 0.6, 1.0)\n",
    "\n",
    "    }\n",
    "\n",
    "    \n",
    "\n",
    "    model = XGBRegressor(**params, n_jobs=-1)\n",
    "\n",
    "    model.fit(X_train, y_train, \n",
    "\n",
    "              eval_set=[(X_val, y_val)], \n",
    "\n",
    "              eval_metric='rmse',  # 使用RMSE作为评估指标\n",
    "\n",
    "              early_stopping_rounds=50, \n",
    "\n",
    "              verbose=False)\n",
    "\n",
    "    \n",
    "\n",
    "    # 对目标值和预测值取对数\n",
    "\n",
    "    y_pred = model.predict(X_val)\n",
    "\n",
    "    y_pred_log = np.log(y_pred + 1)  # 避免对数0的问题\n",
    "\n",
    "    y_val_log = np.log(y_val + 1)\n",
    "\n",
    "\n",
    "\n",
    "    # 计算对数 RMSE\n",
    "\n",
    "    log_rmse = np.sqrt(mean_squared_error(y_val_log, y_pred_log))\n",
    "\n",
    "    return log_rmse\n",
    "\n",
    "\n",
    "\n",
    "\n",
    "\n",
    "if xgb_tunning==True:\n",
    "\n",
    "    # 创建文件以保存试验结果\n",
    "\n",
    "    output_file = \"optuna_trials.txt\"\n",
    "\n",
    "\n",
    "\n",
    "    # 定义输出函数，将每个 trial 的信息保存到文件\n",
    "\n",
    "    def save_trial_result(study, trial):\n",
    "\n",
    "        with open(output_file, 'a') as f:\n",
    "\n",
    "            f.write(f\"Trial {trial.number} finished with value: {trial.value} and parameters: {trial.params}. \"\n",
    "\n",
    "                    f\"Best is trial {study.best_trial.number} with value: {study.best_value}.\\n\")\n",
    "\n",
    "\n",
    "\n",
    "    # 使用Optuna进行超参数调优\n",
    "\n",
    "    study = optuna.create_study(direction='minimize')\n",
    "\n",
    "    study.optimize(objective, n_trials=100, callbacks=[save_trial_result])\n",
    "\n",
    "\n",
    "\n",
    "    print(\"Best parameters:\", study.best_params)\n",
    "\n",
    "    print(\"Best Log RMSE:\", study.best_value)\n",
    "\n",
    "\n",
    "\n",
    "    # 使用最佳参数训练最终模型\n",
    "\n",
    "    best_params = study.best_params\n",
    "\n",
    "    final_model = XGBRegressor(**best_params, n_jobs=-1)\n",
    "\n",
    "    final_model.fit(X_train, y_train)\n",
    "\n",
    "\n",
    "\n",
    "    # 在验证集上评估最终模型\n",
    "\n",
    "    y_pred = final_model.predict(X_val)\n",
    "\n",
    "    y_pred_log = np.log(y_pred + 1)\n",
    "\n",
    "    y_val_log = np.log(y_val + 1)\n",
    "\n",
    "    final_log_rmse = np.sqrt(mean_squared_error(y_val_log, y_pred_log))\n",
    "\n",
    "    print(\"Final model Log RMSE:\", final_log_rmse)"
   ]
  },
  {
   "cell_type": "code",
   "execution_count": 20,
   "id": "aa150419",
   "metadata": {
    "execution": {
     "iopub.execute_input": "2024-10-27T07:52:30.217427Z",
     "iopub.status.busy": "2024-10-27T07:52:30.216840Z",
     "iopub.status.idle": "2024-10-27T07:52:30.222801Z",
     "shell.execute_reply": "2024-10-27T07:52:30.221487Z"
    },
    "papermill": {
     "duration": 0.020852,
     "end_time": "2024-10-27T07:52:30.225350",
     "exception": false,
     "start_time": "2024-10-27T07:52:30.204498",
     "status": "completed"
    },
    "tags": []
   },
   "outputs": [],
   "source": [
    "rf_tuning = False"
   ]
  },
  {
   "cell_type": "code",
   "execution_count": 21,
   "id": "969bdebb",
   "metadata": {
    "execution": {
     "iopub.execute_input": "2024-10-27T07:52:30.249084Z",
     "iopub.status.busy": "2024-10-27T07:52:30.247677Z",
     "iopub.status.idle": "2024-10-27T07:52:30.269662Z",
     "shell.execute_reply": "2024-10-27T07:52:30.268362Z"
    },
    "papermill": {
     "duration": 0.036911,
     "end_time": "2024-10-27T07:52:30.272660",
     "exception": false,
     "start_time": "2024-10-27T07:52:30.235749",
     "status": "completed"
    },
    "tags": []
   },
   "outputs": [],
   "source": [
    "\n",
    "\n",
    "import optuna\n",
    "\n",
    "import numpy as np\n",
    "\n",
    "from sklearn.metrics import mean_squared_error\n",
    "\n",
    "from sklearn.ensemble import RandomForestRegressor\n",
    "\n",
    "from sklearn.model_selection import train_test_split\n",
    "\n",
    "\n",
    "\n",
    "# 假设 X 和 y 已经准备好\n",
    "\n",
    "X_train, X_val, y_train, y_val = train_test_split(X, y, test_size=0.2, random_state=42)\n",
    "\n",
    "\n",
    "\n",
    "def objective(trial):\n",
    "\n",
    "    params = {\n",
    "\n",
    "        'n_estimators': trial.suggest_int('n_estimators', 100, 1000),  # 森林中的树木数目\n",
    "\n",
    "        'max_depth': trial.suggest_int('max_depth', 2, 20),  # 树的最大深度\n",
    "\n",
    "        'min_samples_split': trial.suggest_int('min_samples_split', 2, 10),  # 内部节点再分裂所需的最小样本数\n",
    "\n",
    "        'min_samples_leaf': trial.suggest_int('min_samples_leaf', 1, 10),  # 叶子节点所需的最小样本数\n",
    "\n",
    "        'max_features': trial.suggest_uniform('max_features', 0.1, 1.0),  # 每次分裂时的最大特征数\n",
    "\n",
    "        'bootstrap': trial.suggest_categorical('bootstrap', [True, False])  # 是否有放回地采样\n",
    "\n",
    "    }\n",
    "\n",
    "    \n",
    "\n",
    "    # 创建随机森林模型\n",
    "\n",
    "    rf = RandomForestRegressor(**params, random_state=42, n_jobs=-1)\n",
    "\n",
    "    \n",
    "\n",
    "    # 训练模型\n",
    "\n",
    "    rf.fit(X_train, y_train)\n",
    "\n",
    "    \n",
    "\n",
    "    # 在验证集上进行预测\n",
    "\n",
    "    y_pred = rf.predict(X_val)\n",
    "\n",
    "    \n",
    "\n",
    "    # 对目标值和预测值取对数，避免对数为0的问题\n",
    "\n",
    "    y_pred_log = np.log(y_pred + 1)\n",
    "\n",
    "    y_val_log = np.log(y_val + 1)\n",
    "\n",
    "    \n",
    "\n",
    "    # 计算对数 RMSE\n",
    "\n",
    "    log_rmse = np.sqrt(mean_squared_error(y_val_log, y_pred_log))\n",
    "\n",
    "    return log_rmse\n",
    "\n",
    "\n",
    "\n",
    "if rf_tuning == True:\n",
    "\n",
    "    # 创建文件以保存试验结果\n",
    "\n",
    "    output_file = \"rf_optuna_trials.txt\"\n",
    "\n",
    "\n",
    "\n",
    "    # 定义输出函数，将每个 trial 的信息保存到文件\n",
    "\n",
    "    def save_trial_result(study, trial):\n",
    "\n",
    "        with open(output_file, 'a') as f:\n",
    "\n",
    "            f.write(f\"Trial {trial.number} finished with value: {trial.value} and parameters: {trial.params}. \"\n",
    "\n",
    "                    f\"Best is trial {study.best_trial.number} with value: {study.best_value}.\\n\")\n",
    "\n",
    "\n",
    "\n",
    "    # 使用 Optuna 进行超参数调优\n",
    "\n",
    "    study = optuna.create_study(direction='minimize')\n",
    "\n",
    "    study.optimize(objective, n_trials=100, callbacks=[save_trial_result])\n",
    "\n",
    "\n",
    "\n",
    "    # 输出最佳参数和结果\n",
    "\n",
    "    print(\"Best parameters:\", study.best_params)\n",
    "\n",
    "    print(\"Best Log RMSE:\", study.best_value)\n",
    "\n",
    "\n",
    "\n",
    "    # 使用最佳参数训练最终模型\n",
    "\n",
    "    best_params = study.best_params\n",
    "\n",
    "    final_rf = RandomForestRegressor(**best_params, random_state=42, n_jobs=-1)\n",
    "\n",
    "    final_rf.fit(X_train, y_train)\n",
    "\n",
    "\n",
    "\n",
    "    # 在验证集上评估最终模型\n",
    "\n",
    "    y_pred_final = final_rf.predict(X_val)\n",
    "\n",
    "    y_pred_log = np.log(y_pred_final )\n",
    "\n",
    "    y_val_log = np.log(y_val )\n",
    "\n",
    "    final_log_rmse = np.sqrt(mean_squared_error(y_val_log, y_pred_log))\n",
    "\n",
    "    print(\"Final model Log RMSE:\", final_log_rmse)"
   ]
  },
  {
   "cell_type": "code",
   "execution_count": 22,
   "id": "6e502777",
   "metadata": {
    "execution": {
     "iopub.execute_input": "2024-10-27T07:52:30.296143Z",
     "iopub.status.busy": "2024-10-27T07:52:30.295568Z",
     "iopub.status.idle": "2024-10-27T07:52:30.515120Z",
     "shell.execute_reply": "2024-10-27T07:52:30.513844Z"
    },
    "papermill": {
     "duration": 0.234831,
     "end_time": "2024-10-27T07:52:30.518067",
     "exception": false,
     "start_time": "2024-10-27T07:52:30.283236",
     "status": "completed"
    },
    "tags": []
   },
   "outputs": [],
   "source": [
    "#generate the predictions using \".predict\" for the \"test_scaled\" for both models and store it to merge later\n",
    "\n",
    "y_pred_xgb1  = pd.DataFrame( XGB1.predict(test_scaled))\n",
    "\n",
    "y_pred_xgb2  = pd.DataFrame( XGB2.predict(test_scaled))\n",
    "\n",
    "y_pred_rf1 = pd.DataFrame(RF1.predict(test_scaled))\n",
    "\n",
    "y_pred_rf2 = pd.DataFrame(RF2.predict(test_scaled))\n",
    "\n",
    "#create empty dataset set to store the result (with the same format as the sample_submission)\n",
    "\n",
    "y_pred=pd.DataFrame()\n",
    "\n",
    "\n",
    "\n",
    "\n",
    "\n",
    "y_pred['SalePrice'] = 0.42 * y_pred_xgb1[0]+0.42 * y_pred_xgb2[0] +0.08*y_pred_rf1[0]+0.08*y_pred_rf2[0]\n",
    "\n",
    "#store the Id column in the dataset\n",
    "\n",
    "y_pred['Id'] = test['Id']"
   ]
  },
  {
   "cell_type": "code",
   "execution_count": 23,
   "id": "2b009549",
   "metadata": {
    "execution": {
     "iopub.execute_input": "2024-10-27T07:52:30.541037Z",
     "iopub.status.busy": "2024-10-27T07:52:30.540465Z",
     "iopub.status.idle": "2024-10-27T07:52:30.555096Z",
     "shell.execute_reply": "2024-10-27T07:52:30.553776Z"
    },
    "papermill": {
     "duration": 0.029313,
     "end_time": "2024-10-27T07:52:30.557752",
     "exception": false,
     "start_time": "2024-10-27T07:52:30.528439",
     "status": "completed"
    },
    "tags": []
   },
   "outputs": [],
   "source": [
    "#save dataset into a csv file for submission\n",
    "\n",
    "y_pred.to_csv('submission.csv',index=False)"
   ]
  },
  {
   "cell_type": "code",
   "execution_count": null,
   "id": "b772d8ea",
   "metadata": {
    "papermill": {
     "duration": 0.010154,
     "end_time": "2024-10-27T07:52:30.578456",
     "exception": false,
     "start_time": "2024-10-27T07:52:30.568302",
     "status": "completed"
    },
    "tags": []
   },
   "outputs": [],
   "source": []
  }
 ],
 "metadata": {
  "kaggle": {
   "accelerator": "none",
   "dataSources": [
    {
     "databundleVersionId": 868283,
     "sourceId": 5407,
     "sourceType": "competition"
    }
   ],
   "isGpuEnabled": false,
   "isInternetEnabled": true,
   "language": "python",
   "sourceType": "notebook"
  },
  "kernelspec": {
   "display_name": "Python 3 (ipykernel)",
   "language": "python",
   "name": "python3"
  },
  "language_info": {
   "codemirror_mode": {
    "name": "ipython",
    "version": 3
   },
   "file_extension": ".py",
   "mimetype": "text/x-python",
   "name": "python",
   "nbconvert_exporter": "python",
   "pygments_lexer": "ipython3",
   "version": "3.11.3"
  },
  "papermill": {
   "default_parameters": {},
   "duration": 21.831335,
   "end_time": "2024-10-27T07:52:31.513623",
   "environment_variables": {},
   "exception": null,
   "input_path": "__notebook__.ipynb",
   "output_path": "__notebook__.ipynb",
   "parameters": {},
   "start_time": "2024-10-27T07:52:09.682288",
   "version": "2.6.0"
  }
 },
 "nbformat": 4,
 "nbformat_minor": 5
}
